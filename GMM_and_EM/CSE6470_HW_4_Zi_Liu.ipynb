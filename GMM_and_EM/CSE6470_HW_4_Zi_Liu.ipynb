{
 "cells": [
  {
   "cell_type": "markdown",
   "metadata": {},
   "source": [
    "# ISYE 6740 - Implementing EM and Optimization\n",
    "## Homework 4 \n",
    "## Zi Liu"
   ]
  },
  {
   "cell_type": "markdown",
   "metadata": {},
   "source": [
    "### Section 1.Implementing EM for MNIST dataset\n",
    "\n",
    "Implement the EM algorithm for fitting a Gaussian mixture model for the MNIST dataset. We reduce the dataset to be only two cases, of digits “2” and “6” only. Thus, you will fit GMM with C = 2. Use the data file data.mat or data.dat. True label of the data are also provided in label.mat and label.dat\n",
    "\n",
    "The matrix images is of size 784-by-1990, i.e., there are totally 1990 images, and each column of the matrix corresponds to one image of size 28-by-28 pixels (the image is vectorized; the original image can be recovered by map the vector into a matrix.)\n",
    "\n",
    "First use PCA to reduce the dimensionality of the data before applying to EM. We will put all \"6\" and \"2\" digits together, to project the original data into 5-dimensional vectors."
   ]
  },
  {
   "cell_type": "markdown",
   "metadata": {},
   "source": [
    "#### (a) Select one image of \"2\" and one image of \"6\", and visualize the two images."
   ]
  },
  {
   "cell_type": "code",
   "execution_count": 2,
   "metadata": {},
   "outputs": [],
   "source": [
    "#Import all packages\n",
    "import pandas as pd\n",
    "import numpy as np\n",
    "import matplotlib.pyplot as plt\n",
    "import scipy.io\n",
    "import numpy as np\n",
    "from sklearn.cluster import KMeans\n",
    "from scipy.stats import multivariate_normal\n",
    "plt.style.use('seaborn-white')"
   ]
  },
  {
   "cell_type": "code",
   "execution_count": 3,
   "metadata": {},
   "outputs": [],
   "source": [
    "images = np.loadtxt(\"data/data.dat\", dtype='f')\n",
    "labels = np.loadtxt(\"data/label.dat\", dtype='f')"
   ]
  },
  {
   "cell_type": "code",
   "execution_count": 4,
   "metadata": {},
   "outputs": [],
   "source": [
    "images = images.T"
   ]
  },
  {
   "cell_type": "code",
   "execution_count": 5,
   "metadata": {},
   "outputs": [
    {
     "data": {
      "text/html": [
       "<div>\n",
       "<style scoped>\n",
       "    .dataframe tbody tr th:only-of-type {\n",
       "        vertical-align: middle;\n",
       "    }\n",
       "\n",
       "    .dataframe tbody tr th {\n",
       "        vertical-align: top;\n",
       "    }\n",
       "\n",
       "    .dataframe thead th {\n",
       "        text-align: right;\n",
       "    }\n",
       "</style>\n",
       "<table border=\"1\" class=\"dataframe\">\n",
       "  <thead>\n",
       "    <tr style=\"text-align: right;\">\n",
       "      <th></th>\n",
       "      <th>0</th>\n",
       "      <th>1</th>\n",
       "      <th>2</th>\n",
       "      <th>3</th>\n",
       "      <th>4</th>\n",
       "      <th>5</th>\n",
       "      <th>6</th>\n",
       "      <th>7</th>\n",
       "      <th>8</th>\n",
       "      <th>9</th>\n",
       "      <th>...</th>\n",
       "      <th>774</th>\n",
       "      <th>775</th>\n",
       "      <th>776</th>\n",
       "      <th>777</th>\n",
       "      <th>778</th>\n",
       "      <th>779</th>\n",
       "      <th>780</th>\n",
       "      <th>781</th>\n",
       "      <th>782</th>\n",
       "      <th>783</th>\n",
       "    </tr>\n",
       "  </thead>\n",
       "  <tbody>\n",
       "    <tr>\n",
       "      <th>0</th>\n",
       "      <td>0.0</td>\n",
       "      <td>0.0</td>\n",
       "      <td>0.0</td>\n",
       "      <td>0.0</td>\n",
       "      <td>0.0</td>\n",
       "      <td>0.0</td>\n",
       "      <td>0.0</td>\n",
       "      <td>0.0</td>\n",
       "      <td>0.0</td>\n",
       "      <td>0.0</td>\n",
       "      <td>...</td>\n",
       "      <td>0.0</td>\n",
       "      <td>0.0</td>\n",
       "      <td>0.0</td>\n",
       "      <td>0.0</td>\n",
       "      <td>0.0</td>\n",
       "      <td>0.0</td>\n",
       "      <td>0.0</td>\n",
       "      <td>0.0</td>\n",
       "      <td>0.0</td>\n",
       "      <td>0.0</td>\n",
       "    </tr>\n",
       "    <tr>\n",
       "      <th>1</th>\n",
       "      <td>0.0</td>\n",
       "      <td>0.0</td>\n",
       "      <td>0.0</td>\n",
       "      <td>0.0</td>\n",
       "      <td>0.0</td>\n",
       "      <td>0.0</td>\n",
       "      <td>0.0</td>\n",
       "      <td>0.0</td>\n",
       "      <td>0.0</td>\n",
       "      <td>0.0</td>\n",
       "      <td>...</td>\n",
       "      <td>0.0</td>\n",
       "      <td>0.0</td>\n",
       "      <td>0.0</td>\n",
       "      <td>0.0</td>\n",
       "      <td>0.0</td>\n",
       "      <td>0.0</td>\n",
       "      <td>0.0</td>\n",
       "      <td>0.0</td>\n",
       "      <td>0.0</td>\n",
       "      <td>0.0</td>\n",
       "    </tr>\n",
       "    <tr>\n",
       "      <th>2</th>\n",
       "      <td>0.0</td>\n",
       "      <td>0.0</td>\n",
       "      <td>0.0</td>\n",
       "      <td>0.0</td>\n",
       "      <td>0.0</td>\n",
       "      <td>0.0</td>\n",
       "      <td>0.0</td>\n",
       "      <td>0.0</td>\n",
       "      <td>0.0</td>\n",
       "      <td>0.0</td>\n",
       "      <td>...</td>\n",
       "      <td>0.0</td>\n",
       "      <td>0.0</td>\n",
       "      <td>0.0</td>\n",
       "      <td>0.0</td>\n",
       "      <td>0.0</td>\n",
       "      <td>0.0</td>\n",
       "      <td>0.0</td>\n",
       "      <td>0.0</td>\n",
       "      <td>0.0</td>\n",
       "      <td>0.0</td>\n",
       "    </tr>\n",
       "    <tr>\n",
       "      <th>3</th>\n",
       "      <td>0.0</td>\n",
       "      <td>0.0</td>\n",
       "      <td>0.0</td>\n",
       "      <td>0.0</td>\n",
       "      <td>0.0</td>\n",
       "      <td>0.0</td>\n",
       "      <td>0.0</td>\n",
       "      <td>0.0</td>\n",
       "      <td>0.0</td>\n",
       "      <td>0.0</td>\n",
       "      <td>...</td>\n",
       "      <td>0.0</td>\n",
       "      <td>0.0</td>\n",
       "      <td>0.0</td>\n",
       "      <td>0.0</td>\n",
       "      <td>0.0</td>\n",
       "      <td>0.0</td>\n",
       "      <td>0.0</td>\n",
       "      <td>0.0</td>\n",
       "      <td>0.0</td>\n",
       "      <td>0.0</td>\n",
       "    </tr>\n",
       "    <tr>\n",
       "      <th>4</th>\n",
       "      <td>0.0</td>\n",
       "      <td>0.0</td>\n",
       "      <td>0.0</td>\n",
       "      <td>0.0</td>\n",
       "      <td>0.0</td>\n",
       "      <td>0.0</td>\n",
       "      <td>0.0</td>\n",
       "      <td>0.0</td>\n",
       "      <td>0.0</td>\n",
       "      <td>0.0</td>\n",
       "      <td>...</td>\n",
       "      <td>0.0</td>\n",
       "      <td>0.0</td>\n",
       "      <td>0.0</td>\n",
       "      <td>0.0</td>\n",
       "      <td>0.0</td>\n",
       "      <td>0.0</td>\n",
       "      <td>0.0</td>\n",
       "      <td>0.0</td>\n",
       "      <td>0.0</td>\n",
       "      <td>0.0</td>\n",
       "    </tr>\n",
       "    <tr>\n",
       "      <th>...</th>\n",
       "      <td>...</td>\n",
       "      <td>...</td>\n",
       "      <td>...</td>\n",
       "      <td>...</td>\n",
       "      <td>...</td>\n",
       "      <td>...</td>\n",
       "      <td>...</td>\n",
       "      <td>...</td>\n",
       "      <td>...</td>\n",
       "      <td>...</td>\n",
       "      <td>...</td>\n",
       "      <td>...</td>\n",
       "      <td>...</td>\n",
       "      <td>...</td>\n",
       "      <td>...</td>\n",
       "      <td>...</td>\n",
       "      <td>...</td>\n",
       "      <td>...</td>\n",
       "      <td>...</td>\n",
       "      <td>...</td>\n",
       "      <td>...</td>\n",
       "    </tr>\n",
       "    <tr>\n",
       "      <th>1985</th>\n",
       "      <td>0.0</td>\n",
       "      <td>0.0</td>\n",
       "      <td>0.0</td>\n",
       "      <td>0.0</td>\n",
       "      <td>0.0</td>\n",
       "      <td>0.0</td>\n",
       "      <td>0.0</td>\n",
       "      <td>0.0</td>\n",
       "      <td>0.0</td>\n",
       "      <td>0.0</td>\n",
       "      <td>...</td>\n",
       "      <td>0.0</td>\n",
       "      <td>0.0</td>\n",
       "      <td>0.0</td>\n",
       "      <td>0.0</td>\n",
       "      <td>0.0</td>\n",
       "      <td>0.0</td>\n",
       "      <td>0.0</td>\n",
       "      <td>0.0</td>\n",
       "      <td>0.0</td>\n",
       "      <td>0.0</td>\n",
       "    </tr>\n",
       "    <tr>\n",
       "      <th>1986</th>\n",
       "      <td>0.0</td>\n",
       "      <td>0.0</td>\n",
       "      <td>0.0</td>\n",
       "      <td>0.0</td>\n",
       "      <td>0.0</td>\n",
       "      <td>0.0</td>\n",
       "      <td>0.0</td>\n",
       "      <td>0.0</td>\n",
       "      <td>0.0</td>\n",
       "      <td>0.0</td>\n",
       "      <td>...</td>\n",
       "      <td>0.0</td>\n",
       "      <td>0.0</td>\n",
       "      <td>0.0</td>\n",
       "      <td>0.0</td>\n",
       "      <td>0.0</td>\n",
       "      <td>0.0</td>\n",
       "      <td>0.0</td>\n",
       "      <td>0.0</td>\n",
       "      <td>0.0</td>\n",
       "      <td>0.0</td>\n",
       "    </tr>\n",
       "    <tr>\n",
       "      <th>1987</th>\n",
       "      <td>0.0</td>\n",
       "      <td>0.0</td>\n",
       "      <td>0.0</td>\n",
       "      <td>0.0</td>\n",
       "      <td>0.0</td>\n",
       "      <td>0.0</td>\n",
       "      <td>0.0</td>\n",
       "      <td>0.0</td>\n",
       "      <td>0.0</td>\n",
       "      <td>0.0</td>\n",
       "      <td>...</td>\n",
       "      <td>0.0</td>\n",
       "      <td>0.0</td>\n",
       "      <td>0.0</td>\n",
       "      <td>0.0</td>\n",
       "      <td>0.0</td>\n",
       "      <td>0.0</td>\n",
       "      <td>0.0</td>\n",
       "      <td>0.0</td>\n",
       "      <td>0.0</td>\n",
       "      <td>0.0</td>\n",
       "    </tr>\n",
       "    <tr>\n",
       "      <th>1988</th>\n",
       "      <td>0.0</td>\n",
       "      <td>0.0</td>\n",
       "      <td>0.0</td>\n",
       "      <td>0.0</td>\n",
       "      <td>0.0</td>\n",
       "      <td>0.0</td>\n",
       "      <td>0.0</td>\n",
       "      <td>0.0</td>\n",
       "      <td>0.0</td>\n",
       "      <td>0.0</td>\n",
       "      <td>...</td>\n",
       "      <td>0.0</td>\n",
       "      <td>0.0</td>\n",
       "      <td>0.0</td>\n",
       "      <td>0.0</td>\n",
       "      <td>0.0</td>\n",
       "      <td>0.0</td>\n",
       "      <td>0.0</td>\n",
       "      <td>0.0</td>\n",
       "      <td>0.0</td>\n",
       "      <td>0.0</td>\n",
       "    </tr>\n",
       "    <tr>\n",
       "      <th>1989</th>\n",
       "      <td>0.0</td>\n",
       "      <td>0.0</td>\n",
       "      <td>0.0</td>\n",
       "      <td>0.0</td>\n",
       "      <td>0.0</td>\n",
       "      <td>0.0</td>\n",
       "      <td>0.0</td>\n",
       "      <td>0.0</td>\n",
       "      <td>0.0</td>\n",
       "      <td>0.0</td>\n",
       "      <td>...</td>\n",
       "      <td>0.0</td>\n",
       "      <td>0.0</td>\n",
       "      <td>0.0</td>\n",
       "      <td>0.0</td>\n",
       "      <td>0.0</td>\n",
       "      <td>0.0</td>\n",
       "      <td>0.0</td>\n",
       "      <td>0.0</td>\n",
       "      <td>0.0</td>\n",
       "      <td>0.0</td>\n",
       "    </tr>\n",
       "  </tbody>\n",
       "</table>\n",
       "<p>1990 rows × 784 columns</p>\n",
       "</div>"
      ],
      "text/plain": [
       "      0    1    2    3    4    5    6    7    8    9    ...  774  775  776  \\\n",
       "0     0.0  0.0  0.0  0.0  0.0  0.0  0.0  0.0  0.0  0.0  ...  0.0  0.0  0.0   \n",
       "1     0.0  0.0  0.0  0.0  0.0  0.0  0.0  0.0  0.0  0.0  ...  0.0  0.0  0.0   \n",
       "2     0.0  0.0  0.0  0.0  0.0  0.0  0.0  0.0  0.0  0.0  ...  0.0  0.0  0.0   \n",
       "3     0.0  0.0  0.0  0.0  0.0  0.0  0.0  0.0  0.0  0.0  ...  0.0  0.0  0.0   \n",
       "4     0.0  0.0  0.0  0.0  0.0  0.0  0.0  0.0  0.0  0.0  ...  0.0  0.0  0.0   \n",
       "...   ...  ...  ...  ...  ...  ...  ...  ...  ...  ...  ...  ...  ...  ...   \n",
       "1985  0.0  0.0  0.0  0.0  0.0  0.0  0.0  0.0  0.0  0.0  ...  0.0  0.0  0.0   \n",
       "1986  0.0  0.0  0.0  0.0  0.0  0.0  0.0  0.0  0.0  0.0  ...  0.0  0.0  0.0   \n",
       "1987  0.0  0.0  0.0  0.0  0.0  0.0  0.0  0.0  0.0  0.0  ...  0.0  0.0  0.0   \n",
       "1988  0.0  0.0  0.0  0.0  0.0  0.0  0.0  0.0  0.0  0.0  ...  0.0  0.0  0.0   \n",
       "1989  0.0  0.0  0.0  0.0  0.0  0.0  0.0  0.0  0.0  0.0  ...  0.0  0.0  0.0   \n",
       "\n",
       "      777  778  779  780  781  782  783  \n",
       "0     0.0  0.0  0.0  0.0  0.0  0.0  0.0  \n",
       "1     0.0  0.0  0.0  0.0  0.0  0.0  0.0  \n",
       "2     0.0  0.0  0.0  0.0  0.0  0.0  0.0  \n",
       "3     0.0  0.0  0.0  0.0  0.0  0.0  0.0  \n",
       "4     0.0  0.0  0.0  0.0  0.0  0.0  0.0  \n",
       "...   ...  ...  ...  ...  ...  ...  ...  \n",
       "1985  0.0  0.0  0.0  0.0  0.0  0.0  0.0  \n",
       "1986  0.0  0.0  0.0  0.0  0.0  0.0  0.0  \n",
       "1987  0.0  0.0  0.0  0.0  0.0  0.0  0.0  \n",
       "1988  0.0  0.0  0.0  0.0  0.0  0.0  0.0  \n",
       "1989  0.0  0.0  0.0  0.0  0.0  0.0  0.0  \n",
       "\n",
       "[1990 rows x 784 columns]"
      ]
     },
     "execution_count": 5,
     "metadata": {},
     "output_type": "execute_result"
    }
   ],
   "source": [
    "pd.DataFrame(images)"
   ]
  },
  {
   "cell_type": "code",
   "execution_count": 6,
   "metadata": {},
   "outputs": [
    {
     "data": {
      "text/html": [
       "<div>\n",
       "<style scoped>\n",
       "    .dataframe tbody tr th:only-of-type {\n",
       "        vertical-align: middle;\n",
       "    }\n",
       "\n",
       "    .dataframe tbody tr th {\n",
       "        vertical-align: top;\n",
       "    }\n",
       "\n",
       "    .dataframe thead th {\n",
       "        text-align: right;\n",
       "    }\n",
       "</style>\n",
       "<table border=\"1\" class=\"dataframe\">\n",
       "  <thead>\n",
       "    <tr style=\"text-align: right;\">\n",
       "      <th></th>\n",
       "      <th>0</th>\n",
       "    </tr>\n",
       "  </thead>\n",
       "  <tbody>\n",
       "    <tr>\n",
       "      <th>0</th>\n",
       "      <td>2.0</td>\n",
       "    </tr>\n",
       "    <tr>\n",
       "      <th>1</th>\n",
       "      <td>2.0</td>\n",
       "    </tr>\n",
       "    <tr>\n",
       "      <th>2</th>\n",
       "      <td>2.0</td>\n",
       "    </tr>\n",
       "    <tr>\n",
       "      <th>3</th>\n",
       "      <td>2.0</td>\n",
       "    </tr>\n",
       "    <tr>\n",
       "      <th>4</th>\n",
       "      <td>2.0</td>\n",
       "    </tr>\n",
       "    <tr>\n",
       "      <th>...</th>\n",
       "      <td>...</td>\n",
       "    </tr>\n",
       "    <tr>\n",
       "      <th>1985</th>\n",
       "      <td>6.0</td>\n",
       "    </tr>\n",
       "    <tr>\n",
       "      <th>1986</th>\n",
       "      <td>6.0</td>\n",
       "    </tr>\n",
       "    <tr>\n",
       "      <th>1987</th>\n",
       "      <td>6.0</td>\n",
       "    </tr>\n",
       "    <tr>\n",
       "      <th>1988</th>\n",
       "      <td>6.0</td>\n",
       "    </tr>\n",
       "    <tr>\n",
       "      <th>1989</th>\n",
       "      <td>6.0</td>\n",
       "    </tr>\n",
       "  </tbody>\n",
       "</table>\n",
       "<p>1990 rows × 1 columns</p>\n",
       "</div>"
      ],
      "text/plain": [
       "        0\n",
       "0     2.0\n",
       "1     2.0\n",
       "2     2.0\n",
       "3     2.0\n",
       "4     2.0\n",
       "...   ...\n",
       "1985  6.0\n",
       "1986  6.0\n",
       "1987  6.0\n",
       "1988  6.0\n",
       "1989  6.0\n",
       "\n",
       "[1990 rows x 1 columns]"
      ]
     },
     "execution_count": 6,
     "metadata": {},
     "output_type": "execute_result"
    }
   ],
   "source": [
    "pd.DataFrame(labels)"
   ]
  },
  {
   "cell_type": "markdown",
   "metadata": {},
   "source": [
    "By printing the labels array, I can tell index 0 and index 1989 are image 2 and 6, respectively"
   ]
  },
  {
   "cell_type": "code",
   "execution_count": 7,
   "metadata": {},
   "outputs": [
    {
     "data": {
      "text/plain": [
       "Text(0.5, 1.0, 'Raw Image of 6')"
      ]
     },
     "execution_count": 7,
     "metadata": {},
     "output_type": "execute_result"
    },
    {
     "data": {
      "image/png": "[encoded data removed]",
      "text/plain": [
       "<Figure size 720x360 with 2 Axes>"
      ]
     },
     "metadata": {},
     "output_type": "display_data"
    }
   ],
   "source": [
    "fig, axes = plt.subplots(1,2,figsize=(10,5))\n",
    "axes[0].axis(\"off\")\n",
    "axes[0].imshow(images[0].reshape((28,28)).T, cmap='gray')\n",
    "axes[0].set_title(\"Raw Image of 2\", fontsize=14)\n",
    "axes[1].axis(\"off\")\n",
    "axes[1].imshow(images[1989].reshape((28,28)).T, cmap='gray')\n",
    "axes[1].set_title(\"Raw Image of 6\", fontsize=14)"
   ]
  },
  {
   "cell_type": "markdown",
   "metadata": {},
   "source": [
    "#### (b) Write down detailed expression of the E-step and M-step in the EM algorithm"
   ]
  },
  {
   "cell_type": "markdown",
   "metadata": {},
   "source": [
    "<font size=\"3\">\n",
    "\n",
    "<ins>**Problem Definition: Obtain parameters that maximizes the log−likelihood function**</ins>\n",
    "\n",
    "$l(\\theta ; D) = log\\Pi_{i=1}^m(\\sum\\limits_{z^i=1}^k p(x^i, z^i \\vert \\theta))$ \n",
    "\n",
    "\n",
    "1)<ins> Expectation step (E-step):</ins> take expectation over posterior distribution conditioning on data: it can be shown this forms a lower bound (in the t-th iteration)\n",
    "    \n",
    "    \n",
    "$l(\\theta ; D) \\geq f(\\theta) = E_{q(z^1, z^2, ..., z^m \\vert \\theta^t)}[log\\Pi_{i=1}^m(\\sum\\limits_{z^i=1}^k p(x^i, z^i \\vert \\theta))]$ \n",
    "\n",
    "\n",
    "$q(z^1, z^2, ..., z^m)$: posterior distribution of the latent variables in t-th iteration \n",
    "\n",
    "$q(z^1, z^2, ..., z^m) = \\Pi_{i=1}^m p(z^i \\vert x^i, \\theta^t)$\n",
    "\n",
    "For each data point $x^i$, compute $\\tau$, $p(z^i = k \\vert x^i)$ for each k, which is the probability of data point x come from Gaussian k \n",
    "\n",
    "$\\tau_{k}^i = p(z^i = k \\vert x^i, \\theta^t)$ \n",
    "  \n",
    "$ = \\frac{p(x^i \\vert z^i = k)p(z^i = k)}{\\Sigma_{k'=1,..,K}p(z^i=k', x^i)}$\n",
    "    \n",
    "$ = \\frac{\\pi_{k}N(x^i \\vert \\mu_{k}, \\Sigma_{k})}{\\Sigma_{k'=1,..,K}\\pi_{k'} N(x^i \\vert \\mu_{k'}, \\Sigma_{k'})}$  \n",
    "\n",
    "Since the Gaussian density function is given by:\n",
    "    \n",
    "$N(x^i \\vert \\mu_{k}, \\Sigma_{k}) = \\frac{1}{\\sqrt{(2\\pi)^n \\vert\\Sigma\\vert}}\\exp^{-\\frac{1}{2}(x^i-\\mu)^{\\intercal}\\Sigma^{-1}  (x^i-\\mu)}$\n",
    "\n",
    "Therefore:\n",
    "\n",
    "$\\tau_{k}^i = \\frac{\\pi_{k}\\frac{1}{\\sqrt{(2\\pi)^n \\vert\\Sigma_{k}\\vert}}\\exp^{-\\frac{1}{2}(x^i-\\mu_{k})^{\\intercal}\\Sigma_{k}^{-1}  (x^i-\\mu_{k})}}{\\Sigma_{k'=1...K}\\pi_{k'}\\frac{1}{\\sqrt{(2\\pi)^n \\vert\\Sigma_{k'}\\vert}}\\exp^{-\\frac{1}{2}(x^i-\\mu_{k'})^{\\intercal}\\Sigma^{-1}  (x^i-\\mu_{k'})}}$ \n",
    "    \n",
    "And we need to drop the ${\\sqrt{(2\\pi)}^n}$ factor from the numerator and denominator expression because it will be canceled out:\n",
    "\n",
    "$\\tau_{k}^i = \\frac{\\pi_{k}\\frac{1}{\\sqrt{\\vert\\Sigma_{k}\\vert}}\\exp^{-\\frac{1}{2}(x^i-\\mu_{k})^{\\intercal}\\Sigma_{k}^{-1}  (x^i-\\mu_{k})}}{\\Sigma_{k'=1...K}\\pi_{k'}\\frac{1}{\\sqrt{\\vert\\Sigma_{k'}\\vert}}\\exp^{-\\frac{1}{2}(x^i-\\mu_{k'})^{\\intercal}\\Sigma^{-1}  (x^i-\\mu_{k'})}}$ \n",
    "</font>\n",
    "  \n",
    "  \n",
    "$\\tau_{k}^i$ is updated based on the given current $(\\pi_k, \\mu_k, \\Sigma_k)$\n",
    "\n",
    "\n",
    "<font size=\"4\">\n",
    "    \n",
    "Compute the expectation for $ f(\\theta)$:\n",
    "\n",
    "$f(\\theta) := E_{q(z^1, z^2, ..., z^m \\vert \\theta^t)}[log\\Pi_{i=1}^m(\\sum\\limits_{z^i=1}^k p(x^i, z^i \\vert \\theta))]$  \n",
    "\n",
    "    \n",
    "$ = \\Sigma_{i=1}^m E_{p(z^i \\vert x^i, \\theta^t)}[logp(x^i, z^i \\vert \\theta)] $  \n",
    "    \n",
    "$ = \\Sigma_{i=1}^m E_{p(z^i \\vert x^i, \\theta^t)}[log\\pi_{z^i}N(x^i \\vert \\mu_{z^i}, \\Sigma_{x^i})] $\n",
    "\n",
    "  \n",
    "Expand log of Gaussian density $logN(x^i \\vert \\mu_{z^i}, \\Sigma_{z^i})$\n",
    "\n",
    "\n",
    "$ f(\\theta) = \\Sigma_{i=1}^m E_{p(z^i \\vert x^i, \\theta^t)}[log{\\pi_{z^i}} - \\frac{1}{2}(x^i - \\mu_{z^i})^\\intercal \\Sigma_{z^i}^{-1}(x^i - \\mu_{z^i}) -  \\frac{1}{2}log\\vert\\Sigma_{z^i}\\vert - \\frac{n}{2}log(2\\pi)] $  \n",
    "    \n",
    "$ = \\Sigma_{i=1}^m\\Sigma_{k=1}^K\\tau_{k}^i[log{\\pi_{z^i}} - \\frac{1}{2}(x^i - \\mu_{z^i})^\\intercal \\Sigma_{z^i}^{-1}(x^i - \\mu_{z^i}) -  \\frac{1}{2}log\\vert\\Sigma_{z^i}\\vert - \\frac{n}{2}log(2\\pi)]$\n",
    "</font>\n"
   ]
  },
  {
   "cell_type": "markdown",
   "metadata": {},
   "source": [
    "2)<ins> Maximize step (M-step):</ins> take expectation over $ f(\\theta)$, maximize the parameter. To do so we take the partial derivative of the funcation and set to 0\n",
    "\n",
    "$ f(\\theta) = \\Sigma_{i=1}^m\\Sigma_{k=1}^K\\tau_{k}^i[log{\\pi_{z^i}} - \\frac{1}{2}(x^i - \\mu_{z^i})^\\intercal \\Sigma_{z^i}^{-1}(x^i - \\mu_{z^i}) -  \\frac{1}{2}log\\vert\\Sigma_{z^i}\\vert - \\frac{n}{2}log(2\\pi)] $\n",
    "\n",
    "Need to find $\\pi_{k}$ and we know $\\Sigma_{k=1}^K\\pi_{k} = 1$\n",
    "\n",
    "Form the Lagrangian:\n",
    "\n",
    "$L = \\Sigma_{i=1}^m\\tau_{k}^i[log\\pi_{k} + other terms] + \\lambda(1-\\Sigma_{i=1}^K\\pi_{k}) $\n",
    "\n",
    "\n",
    "Take the partial derivative and set it to zero:\n",
    "\n",
    "<font size= \"4\">\n",
    "$\\frac{\\partial L}{\\partial \\pi_{k}} = \\Sigma_{i=1}^m\\frac{\\tau_{k}^i}{\\pi_{k}} - \\lambda = 0$\n",
    "\n",
    "\n",
    "Note we know that the summation of all mixing coefficients $\\pi$ equals one. In addition, we know that summing up the probabilities $\\tau$ over k will also give us 1. Thus we get $\\lambda$  = m\n",
    "\n",
    "$ \\Rightarrow \\pi_{k} = \\frac{1}{m}\\Sigma_{i=1}^m\\tau_{k}^i$\n",
    "  \n",
    "\n",
    "$ = \\frac{1}{m}\\Sigma_{i=1}^m\\frac{\\pi_{k}\\frac{1}{\\sqrt{\\vert\\Sigma_{k}\\vert}}\\exp^{-\\frac{1}{2}(x^i-\\mu_{k})^{\\intercal}\\Sigma_{k}^{-1}  (x^i-\\mu_{k})}}{\\Sigma_{k'=1...K}\\pi_{k'}\\frac{1}{\\sqrt{\\vert\\Sigma_{k'}\\vert}}\\exp^{-\\frac{1}{2}(x^i-\\mu_{k'})^{\\intercal}\\Sigma^{-1}  (x^i-\\mu_{k'})}}$\n",
    "\n",
    "\n",
    "we differentiate Q with respect to µ and $\\Sigma $, equate the derivative to zero and then solve for the parameters by making use of the log-likelihood equation. The results are shown as following:\n",
    "\n",
    "$\\mu_{k} = \\frac{\\Sigma_{i=1}^m\\tau_{k}^i X_m}{\\Sigma_{i=1}^m\\tau_{k}^i}$\n",
    "\n",
    "    \n",
    "$\\Sigma_{k} = \\frac{\\Sigma_{i=1}^m\\tau_{k}^i (X_m - \\mu_{k})(X_m - \\mu_{k})^T}{\\Sigma_{i=1}^m\\tau_{k}^i}$    \n",
    "    \n",
    "</font>"
   ]
  },
  {
   "cell_type": "markdown",
   "metadata": {},
   "source": [
    "#### (c) Implement EM algorithm yourself. \n",
    "Use the following initialization: \n",
    "\n",
    "• initialization for mean: random Gaussian vector with zero mean\n",
    "\n",
    "• initialization for covariance: generate two Gaussian random matrix of size n-by-n: S1 and S2, and initialize the covariance matrix for the two components\n",
    "\n",
    "Plot the log-likelihood function versus the number of iterations to show your algorithm\n",
    "is converging."
   ]
  },
  {
   "cell_type": "markdown",
   "metadata": {},
   "source": [
    "##### Step 1: Perform PCA to reduce the images to 5 dimensions"
   ]
  },
  {
   "cell_type": "code",
   "execution_count": 8,
   "metadata": {},
   "outputs": [],
   "source": [
    "def PCA_algo(data):\n",
    "    assert type(data) is np.ndarray\n",
    "    assert len(data.shape) == 2\n",
    "    \n",
    "    # step 1. Subtract the mean of each variable\n",
    "    data_meaned = data -np.mean(data,axis = 0)\n",
    "    \n",
    "    # step 2. Calculate the Covariance Matrix\n",
    "    cov_matrix = np.cov(data_meaned, rowvar = False)\n",
    "    \n",
    "    #step 3. Calculating Eigenvalues and Eigenvectors of the covariance matrix\n",
    "    eigen_values , eigen_vectors = np.linalg.eigh(cov_matrix)\n",
    "\n",
    "    #step 4. sort the eigenvalues in descending order\n",
    "    sort_idx = np.argsort(eigen_values)[::-1]\n",
    "\n",
    "    eigen_values_s = eigen_values[sort_idx]\n",
    "    eigen_vectors_s = eigen_vectors[:,sort_idx]\n",
    "    \n",
    "    return eigen_values_s,eigen_vectors_s"
   ]
  },
  {
   "cell_type": "code",
   "execution_count": 9,
   "metadata": {},
   "outputs": [],
   "source": [
    "eigen_values_1, eigen_vectors_1 = PCA_algo(images)"
   ]
  },
  {
   "cell_type": "code",
   "execution_count": 10,
   "metadata": {},
   "outputs": [],
   "source": [
    "# project the original data into 5-dimensional vectors\n",
    "project = images @ eigen_vectors_1[:,:5]"
   ]
  },
  {
   "cell_type": "code",
   "execution_count": 11,
   "metadata": {},
   "outputs": [
    {
     "data": {
      "text/html": [
       "<div>\n",
       "<style scoped>\n",
       "    .dataframe tbody tr th:only-of-type {\n",
       "        vertical-align: middle;\n",
       "    }\n",
       "\n",
       "    .dataframe tbody tr th {\n",
       "        vertical-align: top;\n",
       "    }\n",
       "\n",
       "    .dataframe thead th {\n",
       "        text-align: right;\n",
       "    }\n",
       "</style>\n",
       "<table border=\"1\" class=\"dataframe\">\n",
       "  <thead>\n",
       "    <tr style=\"text-align: right;\">\n",
       "      <th></th>\n",
       "      <th>0</th>\n",
       "      <th>1</th>\n",
       "      <th>2</th>\n",
       "      <th>3</th>\n",
       "      <th>4</th>\n",
       "    </tr>\n",
       "  </thead>\n",
       "  <tbody>\n",
       "    <tr>\n",
       "      <th>0</th>\n",
       "      <td>-1.208191</td>\n",
       "      <td>-0.174419</td>\n",
       "      <td>0.166703</td>\n",
       "      <td>6.446482</td>\n",
       "      <td>-1.337619</td>\n",
       "    </tr>\n",
       "    <tr>\n",
       "      <th>1</th>\n",
       "      <td>-1.435266</td>\n",
       "      <td>-5.271455</td>\n",
       "      <td>0.285528</td>\n",
       "      <td>2.820486</td>\n",
       "      <td>1.591432</td>\n",
       "    </tr>\n",
       "    <tr>\n",
       "      <th>2</th>\n",
       "      <td>-0.695379</td>\n",
       "      <td>-1.107195</td>\n",
       "      <td>-0.616334</td>\n",
       "      <td>4.855767</td>\n",
       "      <td>0.166167</td>\n",
       "    </tr>\n",
       "    <tr>\n",
       "      <th>3</th>\n",
       "      <td>-0.573259</td>\n",
       "      <td>-2.084398</td>\n",
       "      <td>1.320592</td>\n",
       "      <td>2.676489</td>\n",
       "      <td>-1.305482</td>\n",
       "    </tr>\n",
       "    <tr>\n",
       "      <th>4</th>\n",
       "      <td>-0.493528</td>\n",
       "      <td>-2.902178</td>\n",
       "      <td>0.368928</td>\n",
       "      <td>2.530739</td>\n",
       "      <td>0.457135</td>\n",
       "    </tr>\n",
       "    <tr>\n",
       "      <th>...</th>\n",
       "      <td>...</td>\n",
       "      <td>...</td>\n",
       "      <td>...</td>\n",
       "      <td>...</td>\n",
       "      <td>...</td>\n",
       "    </tr>\n",
       "    <tr>\n",
       "      <th>1985</th>\n",
       "      <td>4.081742</td>\n",
       "      <td>-4.527777</td>\n",
       "      <td>0.427191</td>\n",
       "      <td>3.466353</td>\n",
       "      <td>0.825053</td>\n",
       "    </tr>\n",
       "    <tr>\n",
       "      <th>1986</th>\n",
       "      <td>1.773561</td>\n",
       "      <td>-1.900981</td>\n",
       "      <td>2.291727</td>\n",
       "      <td>2.881905</td>\n",
       "      <td>0.634671</td>\n",
       "    </tr>\n",
       "    <tr>\n",
       "      <th>1987</th>\n",
       "      <td>0.699659</td>\n",
       "      <td>-2.626749</td>\n",
       "      <td>3.265817</td>\n",
       "      <td>2.769479</td>\n",
       "      <td>-0.754880</td>\n",
       "    </tr>\n",
       "    <tr>\n",
       "      <th>1988</th>\n",
       "      <td>3.333729</td>\n",
       "      <td>-3.802714</td>\n",
       "      <td>4.000521</td>\n",
       "      <td>7.396613</td>\n",
       "      <td>-0.141478</td>\n",
       "    </tr>\n",
       "    <tr>\n",
       "      <th>1989</th>\n",
       "      <td>4.871780</td>\n",
       "      <td>-5.882711</td>\n",
       "      <td>1.397575</td>\n",
       "      <td>7.071952</td>\n",
       "      <td>-0.185047</td>\n",
       "    </tr>\n",
       "  </tbody>\n",
       "</table>\n",
       "<p>1990 rows × 5 columns</p>\n",
       "</div>"
      ],
      "text/plain": [
       "             0         1         2         3         4\n",
       "0    -1.208191 -0.174419  0.166703  6.446482 -1.337619\n",
       "1    -1.435266 -5.271455  0.285528  2.820486  1.591432\n",
       "2    -0.695379 -1.107195 -0.616334  4.855767  0.166167\n",
       "3    -0.573259 -2.084398  1.320592  2.676489 -1.305482\n",
       "4    -0.493528 -2.902178  0.368928  2.530739  0.457135\n",
       "...        ...       ...       ...       ...       ...\n",
       "1985  4.081742 -4.527777  0.427191  3.466353  0.825053\n",
       "1986  1.773561 -1.900981  2.291727  2.881905  0.634671\n",
       "1987  0.699659 -2.626749  3.265817  2.769479 -0.754880\n",
       "1988  3.333729 -3.802714  4.000521  7.396613 -0.141478\n",
       "1989  4.871780 -5.882711  1.397575  7.071952 -0.185047\n",
       "\n",
       "[1990 rows x 5 columns]"
      ]
     },
     "execution_count": 11,
     "metadata": {},
     "output_type": "execute_result"
    }
   ],
   "source": [
    "pd.DataFrame(project)"
   ]
  },
  {
   "cell_type": "markdown",
   "metadata": {},
   "source": [
    "##### Initialization"
   ]
  },
  {
   "cell_type": "code",
   "execution_count": 12,
   "metadata": {},
   "outputs": [],
   "source": [
    "def initiate_components(x, k=2):\n",
    "        \n",
    "        '''\n",
    "        Input:\n",
    "        \n",
    "        x (m,n) : Array of shape (m,n) with m datapoints and n features\n",
    "        k : int, the number of components\n",
    "        \n",
    "        Output:\n",
    "        \n",
    "        theta:[],list of nested lists each corresponding to each cluster. \n",
    "        Each nested list contains the following items: [mu, cov, pi,tau,total]\n",
    "            1.A mean µ that defines its centre.\n",
    "            2.covariance ∑ that defines its width\n",
    "            3.A mixing probability 𝜋 that defines how big or small the Gaussian function will be.\n",
    "            4.Tau - Set as None for future use purpose\n",
    "            5.Total - Set as None for future use purpose\n",
    "\n",
    "        '''\n",
    "        np.random.seed(123)\n",
    "        \n",
    "        theta = []\n",
    "        \n",
    "        for i in range(k):\n",
    "            mu = np.random.normal(0,0.1,x.shape[1])\n",
    "            cov = np.identity(x.shape[1], dtype=np.float64)\n",
    "            pi = 1/k\n",
    "            tau = None\n",
    "            total = None\n",
    "            theta.append([mu,cov,pi,tau,total])\n",
    "\n",
    "        return theta\n"
   ]
  },
  {
   "cell_type": "markdown",
   "metadata": {},
   "source": [
    "##### create a function to calculate gaussian density:"
   ]
  },
  {
   "cell_type": "code",
   "execution_count": 13,
   "metadata": {},
   "outputs": [],
   "source": [
    "def gaussian3(X, mu, cov):\n",
    "            \n",
    "    '''\n",
    "    Input:\n",
    "\n",
    "    X (m,n) : Array of shape (m,n) with m datapoints and n features\n",
    "    mu : Array of shape (n,1) with the mean for the component\n",
    "    cov : Array of shape (n,n) representing the covariance matrix\n",
    "\n",
    "    Output:\n",
    "    prob: Array of shape (m,1) with the probabilities that the datapoints are coming from the normal distribution with mean mu and covariance matrix cov\n",
    "    '''\n",
    "    prob = []\n",
    "    y1 = multivariate_normal.pdf(X,mu,cov)\n",
    "    \n",
    "    for i in y1:\n",
    "        prob.append([i])\n",
    "            \n",
    "    return np.array(prob)\n",
    "    "
   ]
  },
  {
   "cell_type": "markdown",
   "metadata": {},
   "source": [
    "##### Expectation step: calcualte tau"
   ]
  },
  {
   "cell_type": "code",
   "execution_count": 14,
   "metadata": {},
   "outputs": [],
   "source": [
    "def expectation_step(X, theta):\n",
    "    '''\n",
    "    Input:\n",
    "        X (m,n) : Array of shape (m,n) with m datapoints and n features    \n",
    "        theta: list of nested lists each corresponding to each k. Each nested list contains the following items:\n",
    "        [mu,cov,pi,tau,total]\n",
    "        \n",
    "    Output:\n",
    "        theta: list of nested lists each corresponding to each k. Each nested list contains the following items:\n",
    "        [mu,cov,pi,tau,total]\n",
    "    '''\n",
    "    m,n = X.shape\n",
    "    totals = np.zeros((m, 1), dtype=np.float64)\n",
    "    \n",
    "    for t in theta:\n",
    "        mu_k = t[0]\n",
    "        cov_k = t[1]\n",
    "        pi_k = t[2]\n",
    "        \n",
    "        gamma = (pi_k * gaussian3(X, mu_k, cov_k)).astype(np.float64)\n",
    "        \n",
    "        #calculate the sum of tau\n",
    "        for i in range(m):\n",
    "            totals[i] += gamma[i]\n",
    "        \n",
    "        t[3] = gamma\n",
    "        t[4] = totals\n",
    "        \n",
    "    #calculate the tau for each datapoint m, and update it into the theta array   \n",
    "    for t in theta:\n",
    "        t[3] /= t[4]\n",
    "        \n",
    "    return theta"
   ]
  },
  {
   "cell_type": "markdown",
   "metadata": {},
   "source": [
    "##### Maximization step: update mu,cov,pi"
   ]
  },
  {
   "cell_type": "code",
   "execution_count": 15,
   "metadata": {},
   "outputs": [],
   "source": [
    "def maximization_step(X, theta):\n",
    "    '''\n",
    "    Input:\n",
    "        X (m,n) : Array of shape (m,n) with m datapoints and n features    \n",
    "        theta: list of nested lists each corresponding to each k. Each nested list contains the following items:\n",
    "        [mu,cov,pi,tau,total]\n",
    "        \n",
    "    Output:\n",
    "\n",
    "        theta: list of nested lists each corresponding to each k. Each nested list contains the following items:\n",
    "        [mu,cov,pi,tau,total]\n",
    "    '''\n",
    "    m,n = X.shape \n",
    "    \n",
    "    for t in theta:\n",
    "        tau = t[3]\n",
    "        N_k = np.sum(tau)\n",
    "        \n",
    "        #compute the new pi\n",
    "        pi_k = N_k / m\n",
    "        t[2] = pi_k\n",
    "        \n",
    "        #compute the new mu\n",
    "        mu_k = np.sum(tau.reshape(-1,1)*X,axis = 0) / N_k\n",
    "        t[0] = mu_k\n",
    "        \n",
    "        #compute the new cov\n",
    "        cov_k = np.zeros((n,n))\n",
    "        \n",
    "        for j in range(m):\n",
    "            diff = (X[j]- mu_k).reshape(-1,1)\n",
    "            cov_k += tau[j] *np.dot(diff,diff.T)\n",
    "        \n",
    "        cov_k /= N_k\n",
    "        t[1] = cov_k\n",
    "        \n",
    "    return theta"
   ]
  },
  {
   "cell_type": "markdown",
   "metadata": {},
   "source": [
    "##### Define a functiont to compute the log-likelihood"
   ]
  },
  {
   "cell_type": "code",
   "execution_count": 16,
   "metadata": {},
   "outputs": [],
   "source": [
    "def likehood(theta):\n",
    "    '''\n",
    "    Input:\n",
    "        \n",
    "    theta: list of nested lists each corresponding to each k. Each nested list contains the following items:\n",
    "    [mu,cov,pi,tau]\n",
    "        \n",
    "    Output:\n",
    "        \n",
    "    l : Computed log-likelihood value\n",
    "    '''\n",
    "    tau = np.array([t[3] for t in theta]).T\n",
    "    pi = np.array([t[2] for t in theta])\n",
    "    \n",
    "    l = np.sum(np.log(np.sum(pi*tau,axis = 1)))\n",
    "    \n",
    "    return l"
   ]
  },
  {
   "cell_type": "markdown",
   "metadata": {},
   "source": [
    "##### Combine all components together: EM algorithm"
   ]
  },
  {
   "cell_type": "code",
   "execution_count": 17,
   "metadata": {},
   "outputs": [],
   "source": [
    "# EM ALGORITHM\n",
    "def train_EM(X,num_cluster=2,iterations=5):\n",
    "    '''\n",
    "     Input:\n",
    "        x (m,n) : Array of shape (m,n) with m datapoints and n features\n",
    "        num_cluster: int, decide the number of clusters\n",
    "        iternations: int, the number of iterations\n",
    " \n",
    "    Output:\n",
    "        clusters: Each nested list contains the following items: [mu,cov, pi, tau, total]\n",
    "        likelihoods: list, the likeihood score \n",
    "    '''\n",
    "    clusters = initiate_components(X,k = num_cluster)\n",
    "    likelihoods = []\n",
    "    \n",
    "    for i in range(iterations):\n",
    "        expectation_step(project,clusters) \n",
    "        maximization_step(project,clusters)\n",
    "        likelihoods.append(likehood(clusters))\n",
    "    \n",
    "    return clusters, likelihoods"
   ]
  },
  {
   "cell_type": "code",
   "execution_count": 18,
   "metadata": {},
   "outputs": [],
   "source": [
    "clusters, likelihoods = train_EM(project,num_cluster=2,iterations=20)"
   ]
  },
  {
   "cell_type": "markdown",
   "metadata": {},
   "source": [
    "##### Plot the log-likelihood values by iteration\n",
    "Note the algorithm reached to converge at around 10th iteration"
   ]
  },
  {
   "cell_type": "code",
   "execution_count": 19,
   "metadata": {},
   "outputs": [
    {
     "data": {
      "text/plain": [
       "(1.0, 20.0)"
      ]
     },
     "execution_count": 19,
     "metadata": {},
     "output_type": "execute_result"
    },
    {
     "data": {
      "image/png": "[encoded data removed]",
      "text/plain": [
       "<Figure size 720x432 with 1 Axes>"
      ]
     },
     "metadata": {},
     "output_type": "display_data"
    }
   ],
   "source": [
    "plt.figure(figsize=(10,6))\n",
    "plt.title(\"Log-Likelihood vs Iteration\\n\", fontsize=15, weight='bold')\n",
    "plt.plot(np.arange(1,21),likelihoods)\n",
    "plt.scatter(np.arange(1,21),likelihoods)\n",
    "plt.xlabel('Number of Iterations',fontsize=15)\n",
    "plt.ylabel(\"Log-Likelihood\",fontsize=15)\n",
    "plt.xticks(np.arange(1,21))\n",
    "plt.xlim(1,20)"
   ]
  },
  {
   "cell_type": "markdown",
   "metadata": {},
   "source": [
    "#### (c) Report, the fitting GMM model when EM has terminated in your algorithms, including the weights for each component and the mean vectors (please reformat the vectors into 28-by-28 images and show these images in your submission). Ideally, you should be able to see these means corresponds to “average” images."
   ]
  },
  {
   "cell_type": "code",
   "execution_count": 20,
   "metadata": {},
   "outputs": [],
   "source": [
    "mu_0 = clusters[0][0]\n",
    "mean_reconst_0 = mu_0 @ eigen_vectors_1[:,:5].T\n",
    "\n",
    "mu_1 = clusters[1][0]\n",
    "mean_reconst_1 = mu_1 @ eigen_vectors_1[:,:5].T"
   ]
  },
  {
   "cell_type": "code",
   "execution_count": 21,
   "metadata": {},
   "outputs": [
    {
     "data": {
      "image/png": "[encoded data removed]",
      "text/plain": [
       "<Figure size 720x360 with 2 Axes>"
      ]
     },
     "metadata": {},
     "output_type": "display_data"
    }
   ],
   "source": [
    "fig, axes = plt.subplots(1,2,figsize=(10,5))\n",
    "axes[0].imshow(mean_reconst_0.reshape(28,28).T,cmap='gray')\n",
    "axes[0].set_title(\"Component 1 Mu\", fontsize=14)\n",
    "axes[1].imshow(mean_reconst_1.reshape(28,28).T,cmap='gray')\n",
    "axes[1].set_title(\"Component 2 Mu\", fontsize=14);"
   ]
  },
  {
   "cell_type": "markdown",
   "metadata": {},
   "source": [
    "##### report the two 784-by-784 covariance matrices by visualizing their intensities (e.g., using a gray scaled image)"
   ]
  },
  {
   "cell_type": "code",
   "execution_count": 22,
   "metadata": {},
   "outputs": [],
   "source": [
    "sigma_0 = clusters[0][1]\n",
    "sigma_1 = clusters[1][1]\n",
    "\n",
    "# Reconstruct weights back into our original vector space:\n",
    "reconst_0 = eigen_vectors_1[:,:5] @ sigma_0 @ eigen_vectors_1[:,:5].T\n",
    "reconst_1 = eigen_vectors_1[:,:5] @ sigma_1 @ eigen_vectors_1[:,:5].T"
   ]
  },
  {
   "cell_type": "code",
   "execution_count": 23,
   "metadata": {},
   "outputs": [
    {
     "data": {
      "image/png": "[encoded data removed]",
      "text/plain": [
       "<Figure size 720x360 with 2 Axes>"
      ]
     },
     "metadata": {},
     "output_type": "display_data"
    }
   ],
   "source": [
    "fig, axes = plt.subplots(1,2,figsize=(10,5))\n",
    "axes[0].imshow(reconst_0.reshape(784,784),cmap='gray')\n",
    "axes[0].set_title(\"reconst_\\u03A3 0\", fontsize=14)\n",
    "axes[1].imshow(reconst_1.reshape(784,784),cmap='gray')\n",
    "axes[1].set_title(\"reconst_ \\u03A3 1\", fontsize=14);"
   ]
  },
  {
   "cell_type": "markdown",
   "metadata": {},
   "source": [
    "#### (e) Use the tau to infer the labels of the images, and compare with the true labels.\n",
    "Report the mis-classification rate for digits \\2\" and \\6\" respectively. Perform K-means\n",
    "clustering with K = 2 (you may call a package or use the code from your previous\n",
    "homework). Find out the mis-classification rate for digits \\2\" and \\6\" respectively,\n",
    "and compare with GMM. Which one achieves the better performance?"
   ]
  },
  {
   "cell_type": "markdown",
   "metadata": {},
   "source": [
    "##### Note: From the observation in question 3 above, k = 1 represents the label = 2 and k = 2 represents label = 6.  The accuracy rate for the classification is based on a probability greater than 0.5."
   ]
  },
  {
   "cell_type": "code",
   "execution_count": 24,
   "metadata": {},
   "outputs": [
    {
     "name": "stdout",
     "output_type": "stream",
     "text": [
      "The mis-classification rate for label 2 is: 3.37 %\n",
      "The mis-classification rate for label 6 is: 3.37 %\n"
     ]
    }
   ],
   "source": [
    "tau_2 = clusters[0][3].reshape(-1,)\n",
    "tau_6 = clusters[1][3].reshape(-1,)\n",
    "print('The mis-classification rate for label 2 is:',np.round(100*((tau_2 > 0.5) != (labels==2)).mean(),2), '%')\n",
    "print('The mis-classification rate for label 6 is:',np.round(100*((tau_6 > 0.5) != (labels==6)).mean(),2), '%')"
   ]
  },
  {
   "cell_type": "markdown",
   "metadata": {},
   "source": [
    "##### Use k-means from sklearn package to train the model:"
   ]
  },
  {
   "cell_type": "code",
   "execution_count": 25,
   "metadata": {},
   "outputs": [],
   "source": [
    "#Train and fit the kmeans model\n",
    "kmeans = KMeans(n_clusters=2, random_state=0).fit(images)"
   ]
  },
  {
   "cell_type": "code",
   "execution_count": 26,
   "metadata": {},
   "outputs": [
    {
     "data": {
      "text/plain": [
       "array([2, 2, 2, ..., 2, 6, 6], dtype=int32)"
      ]
     },
     "execution_count": 26,
     "metadata": {},
     "output_type": "execute_result"
    }
   ],
   "source": [
    "#Rename the prediction result from 0 to 2, 1 to 6 respectively\n",
    "predict_results = kmeans.labels_\n",
    "predict_results[predict_results==0]=2\n",
    "predict_results[predict_results==1]=6\n",
    "predict_results"
   ]
  },
  {
   "cell_type": "code",
   "execution_count": 27,
   "metadata": {},
   "outputs": [
    {
     "name": "stdout",
     "output_type": "stream",
     "text": [
      "The mis-classification rate for k-means algo is: 6.23 %\n"
     ]
    }
   ],
   "source": [
    "print('The mis-classification rate for k-means algo is:',np.round(100*(predict_results != labels).mean(),2), '%')"
   ]
  },
  {
   "cell_type": "markdown",
   "metadata": {},
   "source": [
    "##### The mis-classfication rate for k-means is 6.23%  and it is higher than the results from the GMM model. That means GMM has a better performance in terms of classification."
   ]
  },
  {
   "cell_type": "code",
   "execution_count": 28,
   "metadata": {},
   "outputs": [
    {
     "data": {
      "image/png": "[encoded data removed]",
      "text/plain": [
       "<Figure size 720x360 with 2 Axes>"
      ]
     },
     "metadata": {},
     "output_type": "display_data"
    }
   ],
   "source": [
    "fig, axes = plt.subplots(1,2,figsize=(10,5))\n",
    "axes[0].imshow(kmeans.cluster_centers_[0].reshape(28,28).T,cmap='gray')\n",
    "axes[0].set_title(\"Component 0 K-means\", fontsize=14)\n",
    "axes[1].imshow(kmeans.cluster_centers_[1].reshape(28,28).T,cmap='gray')\n",
    "axes[1].set_title(\"Component 1 K-means\", fontsize=14);"
   ]
  },
  {
   "cell_type": "markdown",
   "metadata": {},
   "source": [
    "### Section 2.Optimization\n",
    "\n",
    "Consider a simplified logistic regression problem. Given m training samples (xi; yi), i = 1,... ,m. The data xi (note that we only have one feature for each sample), and yi= {0,1}. To fit a logistic regression model for classification, we solve the following optimization problem, where theta is a parameter we aim to find:\n",
    "\n",
    "$$max_θl(θ)$$\n",
    "\n",
    "where the log-likelihood function\n",
    "\n",
    "$$l(θ) = \\sum^m_{i=1} \\{-log(1+exp\\{-θx^i\\}) + (y^i-1)θx^i\\}$$"
   ]
  },
  {
   "cell_type": "markdown",
   "metadata": {},
   "source": [
    "##### Q1a Show step-by-step mathematical derivation for the gradient of the cost function $l(\\theta)$ in (1)."
   ]
  },
  {
   "cell_type": "markdown",
   "metadata": {},
   "source": [
    "$$l(θ) = \\sum^m_{i=1} \\{-log(1+exp\\{-θx^i\\}) + (y^i-1)θx^i\\}$$"
   ]
  },
  {
   "cell_type": "markdown",
   "metadata": {},
   "source": [
    "$$\\frac{\\partial l(θ)}{\\partial θ} = \\frac{\\partial}{\\partial θ}\\sum^m_{i=1} \\{-log(1+exp\\{-θx^i\\}) + (y^i-1)θx^i\\}  $$"
   ]
  },
  {
   "cell_type": "markdown",
   "metadata": {},
   "source": [
    "$$ = \\sum^m_{i=1} \\frac{\\partial}{\\partial θ}-log(1+exp\\{-θx^i\\} + \\sum^m_{i=1} \\frac{\\partial}{\\partial θ}(y^i-1)θx^i $$"
   ]
  },
  {
   "cell_type": "markdown",
   "metadata": {},
   "source": [
    "Because: $$ \\frac{{\\partial}{\\log(f(x))}}{{\\partial}{x}} = \\frac{f'(x)}{f(x)}$$\n",
    " "
   ]
  },
  {
   "cell_type": "markdown",
   "metadata": {},
   "source": [
    "Therefore $$= \\sum^m_{i=1}-\\frac{(1+exp\\{-θx^i\\})'}{1+exp\\{-θx^i\\}} + \\sum^m_{i=1}(y^i-1)x^i $$"
   ]
  },
  {
   "cell_type": "markdown",
   "metadata": {},
   "source": [
    "$$ = \\sum^m_{i=1}\\frac{x^iexp\\{-θx^i\\}}{1+exp\\{-θx^i\\}} + \\sum^m_{i=1}(y^i-1)x^i$$"
   ]
  },
  {
   "cell_type": "markdown",
   "metadata": {},
   "source": [
    "$$= \\sum^m_{i=1}\\frac{x^iexp\\{-θx^i\\}}{1+exp\\{-θx^i\\}} + (y^i-1)x^i $$"
   ]
  },
  {
   "cell_type": "markdown",
   "metadata": {},
   "source": [
    "#### Q1b Write a pseudo-code for performing gradient descent to find the optimizer $θ^*$. "
   ]
  },
  {
   "cell_type": "markdown",
   "metadata": {},
   "source": [
    "1. Initialize $\\theta $ and $\\alpha$, where $\\theta$ is any parameter on which the cost function depends on for the logistic regression and $\\alpha$ is the learning rate.\n",
    "\n",
    "2. Do: For each iteration:\n",
    "            a. perform the following calculation given a number of iterations:\n",
    "    \n",
    "$$ Δ\\theta = \\alpha \\sum^m_{i=1}\\frac{x^iexp\\{-θx^i\\}}{1+exp\\{-θx^i\\}} + (y^i-1)x^i $$\n",
    "\n",
    "            b. update:\n",
    "   \n",
    "$$\\theta_(new)  = \\theta_(old) +  Δ\\theta$$ \n",
    "    \n",
    "            till satisfied"
   ]
  },
  {
   "cell_type": "markdown",
   "metadata": {},
   "source": [
    "#### Q1c Write the pseudo-code for performing the stochastic gradient descent algorithm to solve the training of logistic regression problem (1). Please explain the difference between gradient descent and stochastic gradient descent for training logistic regression."
   ]
  },
  {
   "cell_type": "markdown",
   "metadata": {},
   "source": [
    "1. Initialize $\\theta $ and $\\alpha$, where $\\theta$ is any parameter on which the cost function depends on for the logistic regression and $\\alpha$ is the learning rate.\n",
    "\n",
    "2. Randomly shuffle the training dataset $S_t$\n",
    "\n",
    "3. Do: For each iteration:\n",
    "           For sample training dataset St:\n",
    "                 perform the following calculation:\n",
    "$$ \\theta_(new)  = \\theta_(old) + \\alpha \\sum_{{i}\\in{S_{t}}} \\frac{x^iexp\\{-θx^i\\}}{1+exp\\{-θx^i\\}} + (y^i-1)x^i, while Δ\\theta > \\epsilon $$\n",
    "                 till satisfied\n",
    "\n",
    "The difference between gradient descent and stochastic gradient descent is at the update step the gradient descent is computing the gradient using all the training data, whereas for stochastic gradient descent only selects a sample dataset for computing the gradient to update the theta."
   ]
  },
  {
   "cell_type": "markdown",
   "metadata": {},
   "source": [
    "#### Q1d Derive the Hessian matrix of $l(θ)$ and based on this, show the training problem (1) is concave (note that in this case, since we only have one feature, the Hessian matrix is just a scalar). Explain why the problem can be solved efficiently and gradient descent will achieve a unique global optimizer, as we discussed in class"
   ]
  },
  {
   "cell_type": "markdown",
   "metadata": {},
   "source": [
    "Hessian matrix is defined as the second derivative of the likelihood function of $l(θ)$. It is equals to: $\\frac{\\partial^2 l(\\theta)}{\\partial \\theta^2}$"
   ]
  },
  {
   "cell_type": "markdown",
   "metadata": {},
   "source": [
    "$$\\frac{\\partial^2 l(θ)}{\\partial θ^2} =   \\frac{\\partial}{\\partial θ}\\sum^m_{i=1}\\frac{x^iexp\\{-θx^i\\}}{1+exp\\{-θx^i\\}} + (y^i-1)x^i$$"
   ]
  },
  {
   "cell_type": "markdown",
   "metadata": {},
   "source": [
    "$$= \\sum^m_{i=1} \\frac{\\partial}{\\partial θ}\\frac{x^i y^i exp\\{-θx^i\\} + x^i y^i-x^i}{1+exp\\{-θx^i\\}} $$"
   ]
  },
  {
   "cell_type": "markdown",
   "metadata": {},
   "source": [
    "$$= \\sum^m_{i=1} \\frac{(-x_i^2 y^i exp\\{-θx^i\\})  (1+exp\\{-θx^i\\}) - (-x^i exp\\{-θx^i\\}) (x^i y^i exp\\{-θx^i\\} + x^i y^i-x^i)}{(1+exp\\{-θx^i\\})^2} = $$"
   ]
  },
  {
   "cell_type": "markdown",
   "metadata": {},
   "source": [
    "$$ = -\\sum^m_{i=1} \\frac{x_i^2 exp\\{-θx^i\\}}{(1+exp\\{-θx^i\\})^2}$$ "
   ]
  },
  {
   "cell_type": "markdown",
   "metadata": {},
   "source": [
    "The term $-\\sum^m_{i=1} \\frac{x_i^2 exp\\{-θx^i\\}}{(1+exp\\{-θx^i\\})^2}$  is always negative with the quadratic fraction term being positive. Therefore the optimization of $l(θ)$ is a concave problem."
   ]
  },
  {
   "cell_type": "markdown",
   "metadata": {},
   "source": [
    "### Reference link:\n",
    "https://towardsdatascience.com/gaussian-mixture-models-explained-6986aaf5a95\n",
    "https://docs.scipy.org/doc/scipy/reference/generated/scipy.stats.multivariate_normal.html\n",
    "https://towardsdatascience.com/mathematical-intuition-behind-gradient-descent-f1b959a59e6d\n",
    "https://towardsdatascience.com/optimization-loss-function-under-the-hood-part-ii-d20a239cde11\n",
    "https://www.quora.com/Whats-the-difference-between-gradient-descent-and-stochastic-gradient-descent"
   ]
  }
 ],
 "metadata": {
  "kernelspec": {
   "display_name": "Python 3",
   "language": "python",
   "name": "python3"
  },
  "language_info": {
   "codemirror_mode": {
    "name": "ipython",
    "version": 3
   },
   "file_extension": ".py",
   "mimetype": "text/x-python",
   "name": "python",
   "nbconvert_exporter": "python",
   "pygments_lexer": "ipython3",
   "version": "3.8.5"
  }
 },
 "nbformat": 4,
 "nbformat_minor": 4
}
